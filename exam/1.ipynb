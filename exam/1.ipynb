{
 "cells": [
  {
   "cell_type": "markdown",
   "metadata": {},
   "source": [
    "# Завдання на екзамен\n",
    "1. У роботі №2, для файлу game/sword.py створити новий бонус меча у класу SwordBonus який буде збільшувати damage на 5\n",
    "- пишемо код для реалізації нашого завдання ![](Screenshot_1.png)\n",
    "- створюємо файл test_exam, в якому перевіряємо та виводимо результати\n",
    "```python\n",
    "from game.sword import SwordBonus, Swords\n",
    "\n",
    "#Створення екземпляра меча\n",
    "sword = Swords.create_random_rarity(\"Меч долі\")\n",
    "\n",
    "#Перевірка методів бонусів\n",
    "for method in SwordBonus.list_bonus_methods():\n",
    "    print(getattr(SwordBonus, method)(sword))\n",
    "\n",
    "# Перевірка інформації про меч\n",
    "print(sword.info)\n",
    "\n",
    "# Перевірка атаки\n",
    "print(sword.attack(Swords.create_random_rarity(\"Зламана зброя\")))\n",
    "\n",
    "# Перевірка парирування\n",
    "print(sword.parry(10))\n",
    "\n",
    "# Перевірка старіння\n",
    "sword.aging()\n",
    "print(sword.info)\n",
    "\n",
    "# Перевірка ремонту\n",
    "print(sword.repair())\n",
    "print(sword.info)\n",
    "\n",
    "# Перевірка бафів\n",
    "sword.get_baff_damage(5)\n",
    "print(sword.info)\n",
    "sword.expired_buff()\n",
    "print(sword.info)\n",
    "\n",
    "# Перевірка нового бонусу\n",
    "sword = Swords.create_random_rarity(\"Могутній меч\")\n",
    "print(SwordBonus.bonus_power(sword))\n",
    "print(sword.info)\n",
    "```\n",
    "- результат запуску на скріншоті\n",
    "\n",
    "![](Screenshot_2.png)\n",
    "![](Screenshot_3.png)\n",
    "![](Screenshot_4.png)"
   ]
  }
 ],
 "metadata": {
  "language_info": {
   "name": "python"
  }
 },
 "nbformat": 4,
 "nbformat_minor": 2
}
